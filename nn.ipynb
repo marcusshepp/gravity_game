{
 "cells": [
  {
   "cell_type": "code",
   "execution_count": null,
   "metadata": {
    "collapsed": true
   },
   "outputs": [],
   "source": [
    "import numpy as np\n",
    "\n",
    "\n",
    "class NeuralNetwork(object):\n",
    "    \n",
    "    def __init__(self):\n",
    "        self.input_layer_size = 2\n",
    "        self.hidden_layer_size = 3\n",
    "        self.output_layer_size = 1\n",
    "        \n",
    "        self.w1 = np.random.randn(\n",
    "            self.input_layer_size,\n",
    "            self.hidden_layer_size)\n",
    "        self.w2 = np.random.randn(\n",
    "            self.hidden_layer_size,\n",
    "            self.output_layer_size)\n",
    "        \n",
    "    def forward(self, x):\n",
    "        \"\"\" Propagate inputs through network. \"\"\"\n",
    "        self.z2 = np.dot(x, self.w1)\n",
    "        self.a2 = self.sigmod(self.z2)\n",
    "        self.z3 = np.dot(self.a2, self.w2)\n",
    "        yhat = self.sigmoid(self.z3)\n",
    "        return yhat\n",
    "    \n",
    "    def sigmoid(self, z):\n",
    "        return 1/(1+np.exp(-z))\n",
    "        "
   ]
  }
 ],
 "metadata": {
  "kernelspec": {
   "display_name": "Python 2",
   "language": "python",
   "name": "python2"
  },
  "language_info": {
   "codemirror_mode": {
    "name": "ipython",
    "version": 2
   },
   "file_extension": ".py",
   "mimetype": "text/x-python",
   "name": "python",
   "nbconvert_exporter": "python",
   "pygments_lexer": "ipython2",
   "version": "2.7.8"
  }
 },
 "nbformat": 4,
 "nbformat_minor": 0
}
