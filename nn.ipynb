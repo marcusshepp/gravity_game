{
 "cells": [
  {
   "cell_type": "code",
   "execution_count": 220,
   "metadata": {
    "collapsed": false
   },
   "outputs": [],
   "source": [
    "class NeuralNetwork(object):\n",
    "    \"\"\"  \n",
    "    Hold all layers together and propogate values through the net.\n",
    "    \"\"\"\n",
    "    def __init__(self, data):\n",
    "        \"\"\"\n",
    "        Hold data ie weights thresholds and input.\n",
    "        also holds neurons for each layer\n",
    "        \"\"\"\n",
    "        # create layers\n",
    "        self.input_layer = data[\"num_input_nodes\"]\n",
    "        self.hidden_layer = data[\"num_hidden_nodes\"]\n",
    "        self.output_layer = data[\"num_output_nodes\"]\n",
    "        # inputs\n",
    "        self.inputs = data[\"inputs\"]\n",
    "        # weights\n",
    "        self.first_weights = data[\"first_weights\"]\n",
    "        self.second_weights = data[\"second_weights\"]\n",
    "        self.third_weights = data[\"third_weights\"]\n",
    "        # thresholds\n",
    "        self.first_thresholds = data[\"first_thresholds\"]\n",
    "        self.second_thresholds = data[\"second_thresholds\"]\n",
    "        self.third_thresholds = data[\"third_thresholds\"]\n",
    "    \n",
    "    def __neural_output(self, weights, inputs, threshold):\n",
    "        \"\"\"\n",
    "        in: weights, inputs, threshold\n",
    "        out: 1 or 0\n",
    "        \n",
    "        if the (sum of weights) x (sum of inputs)\n",
    "        is greater than my threshold\n",
    "        output 1\n",
    "        else 0\n",
    "        \"\"\"\n",
    "        length = len(inputs)\n",
    "        activation = 0\n",
    "        output = 0\n",
    "        for i in range(length):\n",
    "            activation += weights[i] * inputs[i]\n",
    "        if activation > threshold:\n",
    "            output = 1\n",
    "        return output\n",
    "    \n",
    "    def __layer_out(self, weights, inputs, thresholds):\n",
    "        \"\"\"  \n",
    "        for all input & weights, compute each output from each neuron.\n",
    "        \"\"\"\n",
    "        outs = []\n",
    "        # number of thresholds = number of output bits\n",
    "        for threshold in thresholds:\n",
    "            outs.append(\n",
    "                self.__neural_output(weights,\n",
    "                              inputs,  \n",
    "                              threshold))\n",
    "        return outs\n",
    "    \n",
    "    def one_out(self):\n",
    "        \"\"\"\n",
    "        return bits for input layer.\n",
    "        \"\"\"\n",
    "        return self.__layer_out(self.first_weights, \n",
    "                              self.inputs, \n",
    "                              self.first_thresholds)\n",
    "    \n",
    "    def hidden_layer_out(self):\n",
    "        \"\"\"\n",
    "        return bits for hidden layer.\n",
    "        \"\"\"\n",
    "        return self.__layer_out(self.second_weights, \n",
    "                              self.one_out(), \n",
    "                              self.second_thresholds)\n",
    "    \n",
    "    def output_layer_out(self):\n",
    "        \"\"\"\n",
    "        return bits for ouput layer.\n",
    "        \"\"\"\n",
    "        return self.__layer_out(self.third_weights, \n",
    "                              self.hidden_layer_out(), \n",
    "                              self.third_thresholds)\n",
    "    \n",
    "    def out(self):\n",
    "        \"\"\"\n",
    "        for show\n",
    "        \"\"\"\n",
    "        return self.output_layer_out()"
   ]
  },
  {
   "cell_type": "code",
   "execution_count": 221,
   "metadata": {
    "collapsed": false
   },
   "outputs": [
    {
     "name": "stdout",
     "output_type": "stream",
     "text": [
      "[0, 0, 0, 0, 0, 1, 1, 1, 1, 0, 0, 0, 0, 1, 0, 0, 1, 0, 0, 0]\n"
     ]
    }
   ],
   "source": [
    "import random\n",
    "\n",
    "data = {\n",
    "    \"num_input_nodes\": 9,\n",
    "    \"num_hidden_nodes\": 5,\n",
    "    \"num_output_nodes\": 20,\n",
    "    \"inputs\": full_input(planet_to_bin_rep(planets)), # y x m\n",
    "    # len of from * len of to\n",
    "    \"first_weights\": [random.randrange(-1000, 1000) for i in range(621)], # 69 * 9\n",
    "    \"second_weights\": [random.randrange(-1000, 1000) for i in range(45)], # 9 * 5\n",
    "    \"third_weights\": [random.randrange(-1000, 1000) for i in range(50)], # 5 * 20\n",
    "    # len of layer\n",
    "    \"first_thresholds\": [random.randrange(-1000, 1000) for i in range(9)],\n",
    "    \"second_thresholds\": [random.randrange(-1000, 1000) for i in range(5)],    \n",
    "    \"third_thresholds\": [random.randrange(-1000, 1000) for i in range(20)]}\n",
    "\n",
    "nn = NeuralNetwork(data)\n",
    "print nn.out()"
   ]
  },
  {
   "cell_type": "code",
   "execution_count": 222,
   "metadata": {
    "collapsed": true
   },
   "outputs": [],
   "source": [
    "planets = [[200,100,50,50,1],[400,100,50,50,1],[600,100,50,50,1]]\n",
    "\n",
    "def to_bin(data, length):\n",
    "    return bin(int(data))[2:].zfill(length)\n",
    "\n",
    "def planet_to_bin_rep(planets):\n",
    "#     print planets\n",
    "    planet_one = [to_bin(planets[0][0], 10),\n",
    "                  to_bin(planets[0][1], 10),\n",
    "                  to_bin(planets[0][4], 3)]\n",
    "    planet_two = [to_bin(planets[1][0], 10),\n",
    "                  to_bin(planets[1][1], 10),\n",
    "                  to_bin(planets[1][4], 3)]\n",
    "    planet_three = [to_bin(planets[2][0], 10),\n",
    "                    to_bin(planets[2][1], 10),\n",
    "                    to_bin(planets[2][4], 3)]\n",
    "    return planet_one, planet_two, planet_three\n",
    "\n",
    "def full_input(l):\n",
    "    value = \"\"\n",
    "    for i in l:\n",
    "        for d in i:\n",
    "            value += d\n",
    "    return [int(i) for i in value]"
   ]
  },
  {
   "cell_type": "code",
   "execution_count": 223,
   "metadata": {
    "collapsed": false
   },
   "outputs": [
    {
     "data": {
      "text/plain": [
       "(81, 45, 100)"
      ]
     },
     "execution_count": 223,
     "metadata": {},
     "output_type": "execute_result"
    }
   ],
   "source": [
    "def nn_info(inp,hid,out):\n",
    "    \"\"\"\n",
    "    given hidden input and out\n",
    "    gives weights0 + weights1 + weights2\n",
    "    \"\"\"\n",
    "    w0 = inp * inp\n",
    "    w1 = inp * hid\n",
    "    w2 = hid * out\n",
    "    return w0, w1, w2\n",
    "    p = lambda x, y, z: \"Weights from {0} to {1}: {2}\\n\".format(x, y, z)\n",
    "    print p(\"input\", \"layer one\", str(w0))\n",
    "    print p(\"layer one\", \"layer two\", str(w1))\n",
    "    print p(\"layer two\", \"layer three\", str(w2))\n",
    "\n",
    "nn_info(9, 5, 20)"
   ]
  },
  {
   "cell_type": "code",
   "execution_count": 224,
   "metadata": {
    "collapsed": false
   },
   "outputs": [
    {
     "data": {
      "text/plain": [
       "'Weights from layer one to layer two'"
      ]
     },
     "execution_count": 224,
     "metadata": {},
     "output_type": "execute_result"
    }
   ],
   "source": [
    "p = lambda x, y: \"Weights from {0} to {1}\".format(x, y)\n",
    "p(\"layer one\", \"layer two\")"
   ]
  }
 ],
 "metadata": {
  "kernelspec": {
   "display_name": "Python 2",
   "language": "python",
   "name": "python2"
  },
  "language_info": {
   "codemirror_mode": {
    "name": "ipython",
    "version": 2
   },
   "file_extension": ".py",
   "mimetype": "text/x-python",
   "name": "python",
   "nbconvert_exporter": "python",
   "pygments_lexer": "ipython2",
   "version": "2.7.8"
  }
 },
 "nbformat": 4,
 "nbformat_minor": 0
}
