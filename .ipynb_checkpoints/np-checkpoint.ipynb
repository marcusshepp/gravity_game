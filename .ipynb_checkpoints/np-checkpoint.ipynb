{
 "cells": [
  {
   "cell_type": "code",
   "execution_count": 2,
   "metadata": {
    "collapsed": false
   },
   "outputs": [
    {
     "name": "stdout",
     "output_type": "stream",
     "text": [
      "Using matplotlib backend: MacOSX\n",
      "Populating the interactive namespace from numpy and matplotlib\n"
     ]
    },
    {
     "data": {
      "text/plain": [
       "[<matplotlib.lines.Line2D at 0x1172e2dd0>]"
      ]
     },
     "execution_count": 2,
     "metadata": {},
     "output_type": "execute_result"
    }
   ],
   "source": [
    "%pylab\n",
    "import numpy as np\n",
    "\n",
    "b = np.array([1, 2, 3])\n",
    "a = np.array([1, 2, 3])\n",
    "\n",
    "# a + b\n",
    "plot(a, b)"
   ]
  },
  {
   "cell_type": "code",
   "execution_count": 13,
   "metadata": {
    "collapsed": false
   },
   "outputs": [
    {
     "name": "stdout",
     "output_type": "stream",
     "text": [
      "/Users/marcusshepherd/Downloads/Numpy-Tutorial-SciPyConf-2015/exercises/plotting\n"
     ]
    }
   ],
   "source": [
    "%%bash\n",
    "\n",
    "cd /Users/marcusshepherd/Downloads/Numpy-Tutorial-SciPyConf-2015/exercises/\n",
    "cd plotting\n",
    "\n",
    "pwd"
   ]
  },
  {
   "cell_type": "code",
   "execution_count": 14,
   "metadata": {
    "collapsed": false
   },
   "outputs": [
    {
     "ename": "ValueError",
     "evalue": "Only know how to handle extensions: [u'png']; with PIL installed matplotlib can handle more images",
     "output_type": "error",
     "traceback": [
      "\u001b[0;31m---------------------------------------------------------------------------\u001b[0m",
      "\u001b[0;31mValueError\u001b[0m                                Traceback (most recent call last)",
      "\u001b[0;32m<ipython-input-14-89e4acd4691b>\u001b[0m in \u001b[0;36m<module>\u001b[0;34m()\u001b[0m\n\u001b[1;32m      5\u001b[0m \u001b[0mc\u001b[0m \u001b[0;34m=\u001b[0m \u001b[0mcos\u001b[0m\u001b[0;34m(\u001b[0m\u001b[0mx\u001b[0m\u001b[0;34m)\u001b[0m\u001b[0;34m\u001b[0m\u001b[0m\n\u001b[1;32m      6\u001b[0m \u001b[0;34m\u001b[0m\u001b[0m\n\u001b[0;32m----> 7\u001b[0;31m \u001b[0mimg\u001b[0m \u001b[0;34m=\u001b[0m \u001b[0mimread\u001b[0m\u001b[0;34m(\u001b[0m\u001b[0;34m'dc_metro.JPG'\u001b[0m\u001b[0;34m)\u001b[0m\u001b[0;34m\u001b[0m\u001b[0m\n\u001b[0m\u001b[1;32m      8\u001b[0m \u001b[0;34m\u001b[0m\u001b[0m\n\u001b[1;32m      9\u001b[0m \u001b[0mclose\u001b[0m\u001b[0;34m(\u001b[0m\u001b[0;34m'all'\u001b[0m\u001b[0;34m)\u001b[0m\u001b[0;34m\u001b[0m\u001b[0m\n",
      "\u001b[0;32m/Users/marcusshepherd/.virtualenvs/notebook/lib/python2.7/site-packages/matplotlib/pyplot.pyc\u001b[0m in \u001b[0;36mimread\u001b[0;34m(*args, **kwargs)\u001b[0m\n\u001b[1;32m   2213\u001b[0m \u001b[0;34m@\u001b[0m\u001b[0mdocstring\u001b[0m\u001b[0;34m.\u001b[0m\u001b[0mcopy_dedent\u001b[0m\u001b[0;34m(\u001b[0m\u001b[0m_imread\u001b[0m\u001b[0;34m)\u001b[0m\u001b[0;34m\u001b[0m\u001b[0m\n\u001b[1;32m   2214\u001b[0m \u001b[0;32mdef\u001b[0m \u001b[0mimread\u001b[0m\u001b[0;34m(\u001b[0m\u001b[0;34m*\u001b[0m\u001b[0margs\u001b[0m\u001b[0;34m,\u001b[0m \u001b[0;34m**\u001b[0m\u001b[0mkwargs\u001b[0m\u001b[0;34m)\u001b[0m\u001b[0;34m:\u001b[0m\u001b[0;34m\u001b[0m\u001b[0m\n\u001b[0;32m-> 2215\u001b[0;31m     \u001b[0;32mreturn\u001b[0m \u001b[0m_imread\u001b[0m\u001b[0;34m(\u001b[0m\u001b[0;34m*\u001b[0m\u001b[0margs\u001b[0m\u001b[0;34m,\u001b[0m \u001b[0;34m**\u001b[0m\u001b[0mkwargs\u001b[0m\u001b[0;34m)\u001b[0m\u001b[0;34m\u001b[0m\u001b[0m\n\u001b[0m\u001b[1;32m   2216\u001b[0m \u001b[0;34m\u001b[0m\u001b[0m\n\u001b[1;32m   2217\u001b[0m \u001b[0;34m\u001b[0m\u001b[0m\n",
      "\u001b[0;32m/Users/marcusshepherd/.virtualenvs/notebook/lib/python2.7/site-packages/matplotlib/image.pyc\u001b[0m in \u001b[0;36mimread\u001b[0;34m(fname, format)\u001b[0m\n\u001b[1;32m   1256\u001b[0m             raise ValueError('Only know how to handle extensions: %s; '\n\u001b[1;32m   1257\u001b[0m                              \u001b[0;34m'with PIL installed matplotlib can handle '\u001b[0m\u001b[0;34m\u001b[0m\u001b[0m\n\u001b[0;32m-> 1258\u001b[0;31m                              'more images' % list(six.iterkeys(handlers)))\n\u001b[0m\u001b[1;32m   1259\u001b[0m         \u001b[0;32mreturn\u001b[0m \u001b[0mim\u001b[0m\u001b[0;34m\u001b[0m\u001b[0m\n\u001b[1;32m   1260\u001b[0m \u001b[0;34m\u001b[0m\u001b[0m\n",
      "\u001b[0;31mValueError\u001b[0m: Only know how to handle extensions: [u'png']; with PIL installed matplotlib can handle more images"
     ]
    }
   ],
   "source": [
    "\n",
    "\n",
    "x = linspace(0, 2*pi, 101)\n",
    "s = sin(x)\n",
    "c = cos(x)\n",
    "\n",
    "img = imread('dc_metro.JPG')\n",
    "\n",
    "close('all')\n",
    "# 2x2 layout, first plot: sin and cos\n",
    "subplot(2, 2, 1)\n",
    "plot(x, s, 'b-', x, c, 'r+')\n",
    "axis('tight')\n",
    "\n",
    "# 2nd plot: gridlines, labels\n",
    "subplot(2, 2, 2)\n",
    "plot(x, s)\n",
    "grid()\n",
    "xlabel('radians')\n",
    "ylabel('amplitude')\n",
    "title('sin(x)')\n",
    "axis('tight')\n",
    "\n",
    "# 3rd plot, image\n",
    "subplot(2, 2, 3)\n",
    "imshow(img, extent=[-10, 10, -10, 10], cmap=cm.winter)\n",
    "\n",
    "tight_layout()\n",
    "\n",
    "show()\n",
    "\n",
    "\n",
    "savefig('my_plots.png')\n"
   ]
  },
  {
   "cell_type": "code",
   "execution_count": 2,
   "metadata": {
    "collapsed": false
   },
   "outputs": [
    {
     "name": "stdout",
     "output_type": "stream",
     "text": [
      "True\n"
     ]
    }
   ],
   "source": [
    "cc = \"@1\"\n",
    "if type( cc[ :len(cc) ] ) is str:\n",
    "    print True\n",
    "else: print False"
   ]
  },
  {
   "cell_type": "code",
   "execution_count": 9,
   "metadata": {
    "collapsed": false
   },
   "outputs": [
    {
     "name": "stdout",
     "output_type": "stream",
     "text": [
      "True\n"
     ]
    }
   ],
   "source": [
    "import re\n",
    "string = \"@s\"\n",
    "m = re.search(r'\\d+$', string)\n",
    "# if the string ends in digits\n",
    "if m is not None:\n",
    "    print False\n",
    "else: print True"
   ]
  },
  {
   "cell_type": "code",
   "execution_count": 2,
   "metadata": {
    "collapsed": false
   },
   "outputs": [
    {
     "data": {
      "text/plain": [
       "['x{0} -> y{1}',\n",
       " 'x{0} -> y{1}',\n",
       " 'x{0} -> y{1}',\n",
       " 'x{0} -> y{1}',\n",
       " 'x{0} -> y{1}',\n",
       " 'x{0} -> y{1}',\n",
       " 'x{0} -> y{1}',\n",
       " 'x{0} -> y{1}',\n",
       " 'x{0} -> y{1}',\n",
       " 'x{0} -> y{1}',\n",
       " 'x{0} -> y{1}',\n",
       " 'x{0} -> y{1}',\n",
       " 'x{0} -> y{1}',\n",
       " 'x{0} -> y{1}',\n",
       " 'x{0} -> y{1}',\n",
       " 'x{0} -> y{1}',\n",
       " 'x{0} -> y{1}',\n",
       " 'x{0} -> y{1}',\n",
       " 'x{0} -> y{1}',\n",
       " 'x{0} -> y{1}',\n",
       " 'x{0} -> y{1}',\n",
       " 'x{0} -> y{1}',\n",
       " 'x{0} -> y{1}',\n",
       " 'x{0} -> y{1}',\n",
       " 'x{0} -> y{1}',\n",
       " 'x{0} -> y{1}',\n",
       " 'x{0} -> y{1}',\n",
       " 'x{0} -> y{1}',\n",
       " 'x{0} -> y{1}',\n",
       " 'x{0} -> y{1}']"
      ]
     },
     "execution_count": 2,
     "metadata": {},
     "output_type": "execute_result"
    }
   ],
   "source": [
    "x = \"x\"\n",
    "m = []\n",
    "for i in range(30):\n",
    "    for ii in range(5):\n",
    "        m.append(x + \"{0} -> y{1}\".format(i, ii))\n",
    "m\n"
   ]
  },
  {
   "cell_type": "code",
   "execution_count": null,
   "metadata": {
    "collapsed": true
   },
   "outputs": [],
   "source": []
  }
 ],
 "metadata": {
  "kernelspec": {
   "display_name": "Python 2",
   "language": "python",
   "name": "python2"
  },
  "language_info": {
   "codemirror_mode": {
    "name": "ipython",
    "version": 2
   },
   "file_extension": ".py",
   "mimetype": "text/x-python",
   "name": "python",
   "nbconvert_exporter": "python",
   "pygments_lexer": "ipython2",
   "version": "2.7.8"
  }
 },
 "nbformat": 4,
 "nbformat_minor": 0
}
