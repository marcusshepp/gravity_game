{
 "cells": [
  {
   "cell_type": "code",
   "execution_count": 161,
   "metadata": {
    "collapsed": false
   },
   "outputs": [],
   "source": [
    "class NeuralNetwork(object):\n",
    "    \"\"\"  \n",
    "    Hold all layers together and propogate values through the net.\n",
    "    \"\"\"\n",
    "    def __init__(self, data):\n",
    "        \"\"\"\n",
    "        Hold data ie weights thresholds and input.\n",
    "        also holds neurons for each layer\n",
    "        \"\"\"\n",
    "        # create layers\n",
    "        self.input_layer = data[\"num_input_nodes\"]\n",
    "        self.hidden_layer = data[\"num_hidden_nodes\"]\n",
    "        self.output_layer = data[\"num_output_nodes\"]\n",
    "        # inputs\n",
    "        self.inputs = data[\"inputs\"]\n",
    "        # weights\n",
    "        self.first_weights = data[\"first_weights\"]\n",
    "        self.second_weights = data[\"second_weights\"]\n",
    "        self.third_weights = data[\"third_weights\"]\n",
    "        # thresholds\n",
    "        self.first_thresholds = data[\"first_thresholds\"]\n",
    "        self.second_thresholds = data[\"second_thresholds\"]\n",
    "        self.third_thresholds = data[\"third_thresholds\"]\n",
    "    \n",
    "    def neural_output(self, weights, inputs, threshold):\n",
    "        \"\"\"\n",
    "        in: weights, inputs, threshold\n",
    "        out: 1 or 0\n",
    "        \n",
    "        if the (sum of weights) x (sum of inputs)\n",
    "        is greater than my threshold\n",
    "        output 1\n",
    "        else 0\n",
    "        \"\"\"\n",
    "        length = len(inputs)\n",
    "        activation = 0\n",
    "        output = 0\n",
    "        for i in range(length):\n",
    "            activation += weights[i] * inputs[i]\n",
    "        if activation > threshold:\n",
    "            output = 1\n",
    "        return output\n",
    "    \n",
    "    def layer_out(self, weights, inputs, thresholds):\n",
    "        \"\"\"  \n",
    "        for all input & weights, compute each output from each neuron.\n",
    "        \"\"\"\n",
    "        outs = []\n",
    "        # number of thresholds = number of output bits\n",
    "        for threshold in thresholds:\n",
    "            outs.append(\n",
    "                self.neural_output(weights,\n",
    "                              inputs,  \n",
    "                              threshold))\n",
    "        return outs\n",
    "    \n",
    "    def one_out(self):\n",
    "        \"\"\"\n",
    "        return bits for input layer.\n",
    "        \"\"\"\n",
    "        return self.layer_out(self.first_weights, self.inputs, self.first_thresholds)\n",
    "    \n",
    "    def hidden_layer_out(self):\n",
    "        \"\"\"\n",
    "        return bits for hidden layer.\n",
    "        \"\"\"\n",
    "        return self.layer_out(self.second_weights, self.one_out, self.second_thresholds)\n",
    "    \n",
    "    def output_layer_out(self):\n",
    "        \"\"\"\n",
    "        return bits for ouput layer.\n",
    "        \"\"\"\n",
    "        return self.layer_out(self.third_weights, self.hidden_layer_out, self.third_thresholds)\n",
    "    \n",
    "    def out(self):\n",
    "        \"\"\"\n",
    "        for show\n",
    "        \"\"\"\n",
    "        return self.output_layer_out()"
   ]
  },
  {
   "cell_type": "code",
   "execution_count": 162,
   "metadata": {
    "collapsed": false
   },
   "outputs": [
    {
     "ename": "TypeError",
     "evalue": "object of type 'instancemethod' has no len()",
     "output_type": "error",
     "traceback": [
      "\u001b[0;31m---------------------------------------------------------------------------\u001b[0m",
      "\u001b[0;31mTypeError\u001b[0m                                 Traceback (most recent call last)",
      "\u001b[0;32m<ipython-input-162-83739a3748a7>\u001b[0m in \u001b[0;36m<module>\u001b[0;34m()\u001b[0m\n\u001b[1;32m     16\u001b[0m \u001b[0;34m\u001b[0m\u001b[0m\n\u001b[1;32m     17\u001b[0m \u001b[0mnn\u001b[0m \u001b[0;34m=\u001b[0m \u001b[0mNeuralNetwork\u001b[0m\u001b[0;34m(\u001b[0m\u001b[0mdata\u001b[0m\u001b[0;34m)\u001b[0m\u001b[0;34m\u001b[0m\u001b[0m\n\u001b[0;32m---> 18\u001b[0;31m \u001b[0;32mprint\u001b[0m \u001b[0mnn\u001b[0m\u001b[0;34m.\u001b[0m\u001b[0mout\u001b[0m\u001b[0;34m(\u001b[0m\u001b[0;34m)\u001b[0m\u001b[0;34m\u001b[0m\u001b[0m\n\u001b[0m",
      "\u001b[0;32m<ipython-input-161-121f0b7a82de>\u001b[0m in \u001b[0;36mout\u001b[0;34m(self)\u001b[0m\n\u001b[1;32m     77\u001b[0m         \u001b[0;32mfor\u001b[0m \u001b[0mshow\u001b[0m\u001b[0;34m\u001b[0m\u001b[0m\n\u001b[1;32m     78\u001b[0m         \"\"\"\n\u001b[0;32m---> 79\u001b[0;31m         \u001b[0;32mreturn\u001b[0m \u001b[0mself\u001b[0m\u001b[0;34m.\u001b[0m\u001b[0moutput_layer_out\u001b[0m\u001b[0;34m(\u001b[0m\u001b[0;34m)\u001b[0m\u001b[0;34m\u001b[0m\u001b[0m\n\u001b[0m",
      "\u001b[0;32m<ipython-input-161-121f0b7a82de>\u001b[0m in \u001b[0;36moutput_layer_out\u001b[0;34m(self)\u001b[0m\n\u001b[1;32m     71\u001b[0m         \u001b[0;32mreturn\u001b[0m \u001b[0mbits\u001b[0m \u001b[0;32mfor\u001b[0m \u001b[0mouput\u001b[0m \u001b[0mlayer\u001b[0m\u001b[0;34m.\u001b[0m\u001b[0;34m\u001b[0m\u001b[0m\n\u001b[1;32m     72\u001b[0m         \"\"\"\n\u001b[0;32m---> 73\u001b[0;31m         \u001b[0;32mreturn\u001b[0m \u001b[0mself\u001b[0m\u001b[0;34m.\u001b[0m\u001b[0mlayer_out\u001b[0m\u001b[0;34m(\u001b[0m\u001b[0mself\u001b[0m\u001b[0;34m.\u001b[0m\u001b[0mthird_weights\u001b[0m\u001b[0;34m,\u001b[0m \u001b[0mself\u001b[0m\u001b[0;34m.\u001b[0m\u001b[0mhidden_layer_out\u001b[0m\u001b[0;34m,\u001b[0m \u001b[0mself\u001b[0m\u001b[0;34m.\u001b[0m\u001b[0mthird_thresholds\u001b[0m\u001b[0;34m)\u001b[0m\u001b[0;34m\u001b[0m\u001b[0m\n\u001b[0m\u001b[1;32m     74\u001b[0m \u001b[0;34m\u001b[0m\u001b[0m\n\u001b[1;32m     75\u001b[0m     \u001b[0;32mdef\u001b[0m \u001b[0mout\u001b[0m\u001b[0;34m(\u001b[0m\u001b[0mself\u001b[0m\u001b[0;34m)\u001b[0m\u001b[0;34m:\u001b[0m\u001b[0;34m\u001b[0m\u001b[0m\n",
      "\u001b[0;32m<ipython-input-161-121f0b7a82de>\u001b[0m in \u001b[0;36mlayer_out\u001b[0;34m(self, weights, inputs, thresholds)\u001b[0m\n\u001b[1;32m     52\u001b[0m                 self.neural_output(weights,\n\u001b[1;32m     53\u001b[0m                               \u001b[0minputs\u001b[0m\u001b[0;34m,\u001b[0m\u001b[0;34m\u001b[0m\u001b[0m\n\u001b[0;32m---> 54\u001b[0;31m                               threshold))\n\u001b[0m\u001b[1;32m     55\u001b[0m         \u001b[0;32mreturn\u001b[0m \u001b[0mouts\u001b[0m\u001b[0;34m\u001b[0m\u001b[0m\n\u001b[1;32m     56\u001b[0m \u001b[0;34m\u001b[0m\u001b[0m\n",
      "\u001b[0;32m<ipython-input-161-121f0b7a82de>\u001b[0m in \u001b[0;36mneural_output\u001b[0;34m(cls, weights, inputs, threshold)\u001b[0m\n\u001b[1;32m     33\u001b[0m         \u001b[0;32melse\u001b[0m \u001b[0;36m0\u001b[0m\u001b[0;34m\u001b[0m\u001b[0m\n\u001b[1;32m     34\u001b[0m         \"\"\"\n\u001b[0;32m---> 35\u001b[0;31m         \u001b[0mlength\u001b[0m \u001b[0;34m=\u001b[0m \u001b[0mlen\u001b[0m\u001b[0;34m(\u001b[0m\u001b[0minputs\u001b[0m\u001b[0;34m)\u001b[0m\u001b[0;34m\u001b[0m\u001b[0m\n\u001b[0m\u001b[1;32m     36\u001b[0m         \u001b[0mactivation\u001b[0m \u001b[0;34m=\u001b[0m \u001b[0;36m0\u001b[0m\u001b[0;34m\u001b[0m\u001b[0m\n\u001b[1;32m     37\u001b[0m         \u001b[0moutput\u001b[0m \u001b[0;34m=\u001b[0m \u001b[0;36m0\u001b[0m\u001b[0;34m\u001b[0m\u001b[0m\n",
      "\u001b[0;31mTypeError\u001b[0m: object of type 'instancemethod' has no len()"
     ]
    }
   ],
   "source": [
    "import random\n",
    "\n",
    "data = {\n",
    "    \"num_input_nodes\": 9,\n",
    "    \"num_hidden_nodes\": 5,\n",
    "    \"num_output_nodes\": 20,\n",
    "    \"inputs\": full_input(planet_to_bin_rep(planets)), # y x m\n",
    "    # len of from * len of to\n",
    "    \"first_weights\": [random.randrange(-1000, 1000) for i in range(621)], # 69 * 9\n",
    "    \"second_weights\": [random.randrange(-1000, 1000) for i in range(45)], # 9 * 5\n",
    "    \"third_weights\": [random.randrange(-1000, 1000) for i in range(50)], # 5 * 20\n",
    "    # len of layer\n",
    "    \"first_thresholds\": [random.randrange(-1000, 1000) for i in range(9)],\n",
    "    \"second_thresholds\": [random.randrange(-1000, 1000) for i in range(5)],    \n",
    "    \"third_thresholds\": [random.randrange(-1000, 1000) for i in range(20)]}\n",
    "\n",
    "nn = NeuralNetwork(data)\n",
    "print nn.out()"
   ]
  },
  {
   "cell_type": "code",
   "execution_count": null,
   "metadata": {
    "collapsed": true
   },
   "outputs": [],
   "source": [
    "planets = [[200,100,50,50,1],[400,100,50,50,1],[600,100,50,50,1]]\n",
    "\n",
    "def to_bin(data, length):\n",
    "    return bin(int(data))[2:].zfill(length)\n",
    "\n",
    "def planet_to_bin_rep(planets):\n",
    "#     print planets\n",
    "    planet_one = [to_bin(planets[0][0], 10),\n",
    "                  to_bin(planets[0][1], 10),\n",
    "                  to_bin(planets[0][4], 3)]\n",
    "    planet_two = [to_bin(planets[1][0], 10),\n",
    "                  to_bin(planets[1][1], 10),\n",
    "                  to_bin(planets[1][4], 3)]\n",
    "    planet_three = [to_bin(planets[2][0], 10),\n",
    "                    to_bin(planets[2][1], 10),\n",
    "                    to_bin(planets[2][4], 3)]\n",
    "    return planet_one, planet_two, planet_three\n",
    "\n",
    "def full_input(l):\n",
    "    value = \"\"\n",
    "    for i in l:\n",
    "        for d in i:\n",
    "            value += d\n",
    "    return [int(i) for i in value]"
   ]
  },
  {
   "cell_type": "code",
   "execution_count": null,
   "metadata": {
    "collapsed": false
   },
   "outputs": [],
   "source": [
    "def nn_info(inp,hid,out):\n",
    "    \"\"\"\n",
    "    given hidden input and out\n",
    "    gives weights0 + weights1 + weights2\n",
    "    \"\"\"\n",
    "    w0 = inp * inp\n",
    "    w1 = inp * hid\n",
    "    w2 = hid * out\n",
    "    return w0, w1, w2\n",
    "    p = lambda x, y, z: \"Weights from {0} to {1}: {2}\\n\".format(x, y, z)\n",
    "    print p(\"input\", \"layer one\", str(w0))\n",
    "    print p(\"layer one\", \"layer two\", str(w1))\n",
    "    print p(\"layer two\", \"layer three\", str(w2))\n",
    "\n",
    "nn_info(9, 5, 20)"
   ]
  },
  {
   "cell_type": "code",
   "execution_count": null,
   "metadata": {
    "collapsed": false
   },
   "outputs": [],
   "source": [
    "p = lambda x, y: \"Weights from {0} to {1}\".format(x, y)\n",
    "p(\"layer one\", \"layer two\")"
   ]
  }
 ],
 "metadata": {
  "kernelspec": {
   "display_name": "Python 2",
   "language": "python",
   "name": "python2"
  },
  "language_info": {
   "codemirror_mode": {
    "name": "ipython",
    "version": 2
   },
   "file_extension": ".py",
   "mimetype": "text/x-python",
   "name": "python",
   "nbconvert_exporter": "python",
   "pygments_lexer": "ipython2",
   "version": "2.7.8"
  }
 },
 "nbformat": 4,
 "nbformat_minor": 0
}
